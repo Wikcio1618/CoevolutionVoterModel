{
 "cells": [
  {
   "cell_type": "markdown",
   "id": "010aff78-386d-4768-80a1-68bd215640f3",
   "metadata": {
    "tags": []
   },
   "source": [
    " # **Voter Model**\n",
    "***\n",
    "***"
   ]
  },
  {
   "cell_type": "markdown",
   "id": "b09f604e-0578-459d-9ade-1057c58a249b",
   "metadata": {
    "tags": []
   },
   "source": [
    "## Imports"
   ]
  },
  {
   "cell_type": "code",
   "execution_count": null,
   "id": "e514ccc6-aa7b-482d-85d8-504c38a6dfe1",
   "metadata": {
    "tags": []
   },
   "outputs": [],
   "source": [
    "from math import floor\n",
    "from random import randint, uniform, choice\n",
    "import numpy as np"
   ]
  },
  {
   "cell_type": "markdown",
   "id": "810248c5-ce7b-4ccf-a31b-33254e8041a9",
   "metadata": {},
   "source": [
    "## Parameters\n"
   ]
  },
  {
   "cell_type": "code",
   "execution_count": null,
   "id": "70049aa3-5039-41e4-b256-a0b2a525d487",
   "metadata": {},
   "outputs": [],
   "source": [
    "N = 1000 # number of nodes\n",
    "k_mean = 4 # mean number of links per node\n",
    "initial_for = 0.5 # initial percentage of positive opinions\n",
    "lifetime = 10000 # num of steps to stop simulation\n",
    "prob = 0.5"
   ]
  },
  {
   "cell_type": "markdown",
   "id": "8c5f298c-a486-46eb-86c0-0bd9a694b228",
   "metadata": {},
   "source": [
    "## Node class"
   ]
  },
  {
   "cell_type": "code",
   "execution_count": null,
   "id": "e746a9ed-6a6e-4fe3-9918-299af9a18efe",
   "metadata": {},
   "outputs": [],
   "source": [
    "class Node:\n",
    "    # FIELDS:\n",
    "    # id number !!Maybe unnecessary!!\n",
    "    # neighbours list\n",
    "    # binary opinion\n",
    "    \n",
    "    def __init__(self, id, opinion=None):\n",
    "        self.id = id\n",
    "        self.neighbours = set([])\n",
    "        if opinion is None:\n",
    "            self.opinion = -1 # initial opinion is -1\n",
    "        else:\n",
    "            assert type(opinion) == int\n",
    "            self.opinion = opinion\n",
    "    \n",
    "    def changeOpinion(self, opinion=None):\n",
    "        if opinion is None:\n",
    "            self.opinion *= -1 # change opinion to opposite\n",
    "        else:\n",
    "            assert type(opinion) == int\n",
    "            self.opinion = opinion\n",
    "            \n",
    "    def addNeighbour(self, id):\n",
    "        self.neighbours.add(id)\n",
    "\n",
    "            \n",
    "    def removeNeighbour(self, id):\n",
    "        self.neighbours.remove(id)\n"
   ]
  },
  {
   "cell_type": "markdown",
   "id": "7a4dc16c-3be9-4aa2-9101-23a8389e41f2",
   "metadata": {},
   "source": [
    "## Create graph"
   ]
  },
  {
   "cell_type": "code",
   "execution_count": null,
   "id": "1b61b585-3858-4ba2-ae36-279902cd5ade",
   "metadata": {},
   "outputs": [],
   "source": [
    "def createGraph(N, k_mean, initial_for):\n",
    "    # Create nodes array and set opinions\n",
    "    #two if else structures are there to optmize assigning opinion\n",
    "    global nodes\n",
    "    if initial_for < 0.5: \n",
    "            nodes = np.array([Node(i, -1) for i in range(N)])\n",
    "    else:\n",
    "            nodes = np.array([Node(i, 1) for i in range(N)])\n",
    "        \n",
    "    # Change opinions\n",
    "    if initial_for < 0.5:\n",
    "        opinion_counter = floor(N * initial_for)\n",
    "    else:\n",
    "        opinion_counter = floor(N * (1 - initial_for))\n",
    "\n",
    "    while opinion_counter > 0:\n",
    "        node_id = randint(0, N-1)\n",
    "        if ((initial_for < 0.5 and nodes[node_id].opinion == -1) or (initial_for >= 0.5 and nodes[node_id].opinion == 1)):\n",
    "            nodes[node_id].changeOpinion()\n",
    "            opinion_counter += -1\n",
    "\n",
    "    # Create links    \n",
    "    links_counter = floor(N * k_mean / 2)\n",
    "    while links_counter > 0:\n",
    "        node1 = randint(0, N-1)\n",
    "        node2 = randint(0, N-1)\n",
    "        if (node1 != node2 and node2 not in nodes[node1].neighbours):\n",
    "            nodes[node1].addNeighbour(node2)\n",
    "            nodes[node2].addNeighbour(node1)\n",
    "\n",
    "            links_counter += -1\n"
   ]
  },
  {
   "cell_type": "markdown",
   "id": "57bab95f-ff10-43e2-af17-7cf47514ed65",
   "metadata": {},
   "source": [
    "## Single step function"
   ]
  },
  {
   "cell_type": "code",
   "execution_count": null,
   "id": "95723dbb-b4f3-4d3c-8567-8b528dc8eaeb",
   "metadata": {},
   "outputs": [],
   "source": [
    "# new pair is considered\n",
    "def stepForward(prob):\n",
    "    node1 = randint(0, N-1)\n",
    "    if len(nodes[node1].neighbours) != 0:\n",
    "        node2 = choice(tuple(nodes[node1].neighbours))\n",
    "    else:\n",
    "        return\n",
    "    \n",
    "    if (nodes[node1].opinion * nodes[node2].opinion < 0): # opinions differ\n",
    "        if uniform(0,1) < prob: # be persuaded\n",
    "            nodes[node1].changeOpinion(nodes[node2].opinion)\n",
    "\n",
    "        else: # find new neighbour\n",
    "            _isThereSomeoneForMe = 100000 # if it gets to zero there might not be appriopriate new neighbour\n",
    "            while  _isThereSomeoneForMe > 0:\n",
    "                new_node = randint(0, N-1)\n",
    "                if new_node not in nodes[node1].neighbours and nodes[new_node].opinion == nodes[node1].opinion:\n",
    "                    nodes[node1].addNeighbour(new_node)\n",
    "                    nodes[new_node].addNeighbour(node1)\n",
    "                else:\n",
    "                    _isThereSomeoneForMe += -1\n",
    "                    break\n",
    "            if _isThereSomeoneForMe == 0:\n",
    "                print(\"No new neighbours found\")\n",
    "                \n",
    "            nodes[node1].removeNeighbour(node2)\n",
    "            nodes[node2].removeNeighbour(node1)\n",
    "\n",
    "            "
   ]
  },
  {
   "cell_type": "markdown",
   "id": "30ac6587",
   "metadata": {},
   "source": [
    "## Density"
   ]
  },
  {
   "cell_type": "code",
   "execution_count": null,
   "id": "e8d8dd38",
   "metadata": {},
   "outputs": [],
   "source": [
    "# calculating density\n",
    "def get_density():\n",
    "    diff_opinions = 0\n",
    "    for node in nodes:\n",
    "        for neighbour in node.neighbours:\n",
    "            if node.opinion != nodes[neighbour].opinion:\n",
    "                diff_opinions += 1\n",
    "                \n",
    "    return diff_opinions/(N * k_mean * 2)"
   ]
  },
  {
   "cell_type": "markdown",
   "id": "41517f3c",
   "metadata": {},
   "source": [
    "## Main"
   ]
  },
  {
   "cell_type": "code",
   "execution_count": null,
   "id": "fe200e5d",
   "metadata": {},
   "outputs": [],
   "source": [
    "# lets try it out\n",
    "createGraph(N, k_mean=4, initial_for=initial_for)\n",
    "\n",
    "for i in range(lifetime):\n",
    "    stepForward(prob)\n",
    "    print(get_density())"
   ]
  }
 ],
 "metadata": {
  "kernelspec": {
   "display_name": "Python 3 (ipykernel)",
   "language": "python",
   "name": "python3"
  },
  "language_info": {
   "codemirror_mode": {
    "name": "ipython",
    "version": 3
   },
   "file_extension": ".py",
   "mimetype": "text/x-python",
   "name": "python",
   "nbconvert_exporter": "python",
   "pygments_lexer": "ipython3",
   "version": "3.9.7"
  }
 },
 "nbformat": 4,
 "nbformat_minor": 5
}
