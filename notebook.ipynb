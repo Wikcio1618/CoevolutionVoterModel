{
 "cells": [
  {
   "cell_type": "markdown",
   "id": "010aff78-386d-4768-80a1-68bd215640f3",
   "metadata": {
    "tags": []
   },
   "source": [
    " # **Voter Model**\n",
    "***\n",
    "***"
   ]
  },
  {
   "cell_type": "markdown",
   "id": "b09f604e-0578-459d-9ade-1057c58a249b",
   "metadata": {
    "tags": []
   },
   "source": [
    "## Imports"
   ]
  },
  {
   "cell_type": "code",
   "execution_count": 12,
   "id": "e514ccc6-aa7b-482d-85d8-504c38a6dfe1",
   "metadata": {
    "tags": []
   },
   "outputs": [],
   "source": [
    "from math import floor\n",
    "from random import randint, uniform, choice\n",
    "import numpy as np"
   ]
  },
  {
   "cell_type": "markdown",
   "id": "810248c5-ce7b-4ccf-a31b-33254e8041a9",
   "metadata": {},
   "source": [
    "## Parameters\n"
   ]
  },
  {
   "cell_type": "code",
   "execution_count": 13,
   "id": "70049aa3-5039-41e4-b256-a0b2a525d487",
   "metadata": {},
   "outputs": [],
   "source": [
    "N = 10 # number of nodes\n",
    "k_mean = 4 # mean number of links per node\n",
    "initial_for = 0.5 # initial percentage of positive opinions\n",
    "lifetime = 10000 # num of steps to stop simulation"
   ]
  },
  {
   "cell_type": "markdown",
   "id": "ce4e5273",
   "metadata": {},
   "source": [
    "## Supportive values and structures"
   ]
  },
  {
   "cell_type": "code",
   "execution_count": 40,
   "id": "7cc00775",
   "metadata": {},
   "outputs": [],
   "source": [
    "oppositeOpinions = 0 # nr of lines with different opinions\n",
    "difConnections = [[0 for _ in range(N)] for _ in range(N)] # take notice on current lines with different opinions \n",
    "nodes = np.array([]) # array or nodes"
   ]
  },
  {
   "cell_type": "markdown",
   "id": "8c5f298c-a486-46eb-86c0-0bd9a694b228",
   "metadata": {},
   "source": [
    "## Node class"
   ]
  },
  {
   "cell_type": "code",
   "execution_count": 15,
   "id": "e746a9ed-6a6e-4fe3-9918-299af9a18efe",
   "metadata": {},
   "outputs": [],
   "source": [
    "class Node:\n",
    "    # FIELDS:\n",
    "    # id number !!Maybe unnecessary!!\n",
    "    # neighbours list\n",
    "    # binary opinion\n",
    "    \n",
    "    def __init__(self, id, opinion=None):\n",
    "        self.id = id\n",
    "        self.neighbours = []\n",
    "        if opinion is None:\n",
    "            self.opinion = -1 # initial opinion is -1\n",
    "        else:\n",
    "            assert type(opinion) == int\n",
    "            self.opinion = opinion\n",
    "    \n",
    "    def changeOpinion(self, opinion=None):\n",
    "        if opinion is None:\n",
    "            self.opinion *= -1 # change opinion to opposite\n",
    "        else:\n",
    "            assert type(opinion) == int\n",
    "            self.opinion = opinion\n",
    "            \n",
    "    def addNeighbour(self, id):\n",
    "        if id not in self.neighbours:\n",
    "            self.neighbours.append(id)\n",
    "        else:\n",
    "            print(\"błąd\")\n",
    "            \n",
    "    def removeNeighbour(self, id):\n",
    "        if id in self.neighbours:\n",
    "            self.neighbours.remove(id)\n",
    "        else:\n",
    "            print(\"błąd\")"
   ]
  },
  {
   "cell_type": "markdown",
   "id": "7a4dc16c-3be9-4aa2-9101-23a8389e41f2",
   "metadata": {},
   "source": [
    "## Create graph"
   ]
  },
  {
   "cell_type": "code",
   "execution_count": 34,
   "id": "1b61b585-3858-4ba2-ae36-279902cd5ade",
   "metadata": {},
   "outputs": [],
   "source": [
    "def createGraph(N, k_mean, initial_for):\n",
    "    # Create nodes array and set opinions\n",
    "    #two if else structures are there to optmize assigning opinion\n",
    "    if initial_for < 0.5: \n",
    "            nodes = np.array([Node(i, -1) for i in range(N)])\n",
    "    else:\n",
    "            nodes = np.array([Node(i, 1) for i in range(N)])\n",
    "        \n",
    "    # Change opinions\n",
    "    if initial_for < 0.5:\n",
    "        opinion_counter = floor(N * initial_for)\n",
    "    else:\n",
    "        opinion_counter = floor(N * (1 - initial_for))\n",
    "\n",
    "    while opinion_counter > 0:\n",
    "        node_id = randint(0, N-1)\n",
    "        if ((initial_for < 0.5 and nodes[node_id].opinion == -1) or (initial_for >= 0.5 and nodes[node_id].opinion == 1)):\n",
    "            nodes[node_id].changeOpinion()\n",
    "            opinion_counter += -1\n",
    "\n",
    "    # Create links    \n",
    "    links_counter = floor(N * k_mean / 2)\n",
    "    # oppositeOpinions = 0 # this should be global only but for some reason method can't see it\n",
    "    while links_counter > 0:\n",
    "        node1 = randint(0, N-1)\n",
    "        node2 = randint(0, N-1)\n",
    "        if (node1 != node2 and node2 not in nodes[node1].neighbours):\n",
    "            nodes[node1].addNeighbour(node2)\n",
    "            nodes[node2].addNeighbour(node1)\n",
    "            if nodes[node1].opinion != nodes[node2].opinion:\n",
    "                difConnections[node1][node2] = 1\n",
    "                difConnections[node2][node1] = 1\n",
    "                oppositeOpinions += 1\n",
    "            links_counter += -1\n",
    "    \n",
    "    return oppositeOpinions"
   ]
  },
  {
   "cell_type": "markdown",
   "id": "57bab95f-ff10-43e2-af17-7cf47514ed65",
   "metadata": {},
   "source": [
    "## Single step function"
   ]
  },
  {
   "cell_type": "code",
   "execution_count": 35,
   "id": "95723dbb-b4f3-4d3c-8567-8b528dc8eaeb",
   "metadata": {},
   "outputs": [],
   "source": [
    "# new pair is considered\n",
    "def stepForward(N, prob):\n",
    "    node1 = randint(0, N-1)\n",
    "    node2 = choice(nodes[node1].neighbours)\n",
    "    \n",
    "    if (nodes[node1].opinion * nodes[node2].opinion < 0): # opinions differ\n",
    "        if uniform(0,1) < prob: # be persuaded\n",
    "            nodes[node1].changeOpinion(nodes[node2].opinion)\n",
    "            difConnections[node1][node2] = 0\n",
    "            difConnections[node2][node1] = 0\n",
    "            oppositeOpinions += -1\n",
    "        else: # find new neighbour\n",
    "            new_node = node2 # has to be something that is neighbour at this point so that while will start\n",
    "            while True:\n",
    "                new_node = randint(0, N-1)\n",
    "                if new_node not in nodes[node1].neighbours:\n",
    "                    nodes[node1].addNeighbour(new_node)\n",
    "                    nodes[new_node].addNeighbour(node1)\n",
    "                    if nodes[node1].opinion != nodes[new_node].opinion: # increments different links\n",
    "                        difConnections[node1][new_node] = 1\n",
    "                        difConnections[new_node][node1] = 1\n",
    "                        oppositeOpinions += 1\n",
    "                    break\n",
    "            nodes[node1].removeNeighbour(node2)\n",
    "            nodes[node2].removeNeighbour(node1)\n",
    "            oppositeOpinions += -1\n",
    "            "
   ]
  },
  {
   "cell_type": "markdown",
   "id": "30ac6587",
   "metadata": {},
   "source": [
    "## Density"
   ]
  },
  {
   "cell_type": "code",
   "execution_count": 36,
   "id": "e8d8dd38",
   "metadata": {},
   "outputs": [],
   "source": [
    "# calculating density\n",
    "def density():\n",
    "    return oppositeOpinions/floor(N * k_mean / 2)"
   ]
  },
  {
   "cell_type": "markdown",
   "id": "41517f3c",
   "metadata": {},
   "source": [
    "## Main"
   ]
  },
  {
   "cell_type": "code",
   "execution_count": 42,
   "id": "fe200e5d",
   "metadata": {},
   "outputs": [
    {
     "ename": "UnboundLocalError",
     "evalue": "local variable 'oppositeOpinions' referenced before assignment",
     "output_type": "error",
     "traceback": [
      "\u001b[1;31m---------------------------------------------------------------------------\u001b[0m",
      "\u001b[1;31mUnboundLocalError\u001b[0m                         Traceback (most recent call last)",
      "\u001b[1;32m~\\AppData\\Local\\Temp/ipykernel_5460/474662283.py\u001b[0m in \u001b[0;36m<module>\u001b[1;34m\u001b[0m\n\u001b[0;32m      1\u001b[0m \u001b[1;31m# lets try it out\u001b[0m\u001b[1;33m\u001b[0m\u001b[1;33m\u001b[0m\u001b[0m\n\u001b[1;32m----> 2\u001b[1;33m \u001b[0mcreateGraph\u001b[0m\u001b[1;33m(\u001b[0m\u001b[0mN\u001b[0m\u001b[1;33m,\u001b[0m \u001b[1;36m4\u001b[0m\u001b[1;33m,\u001b[0m \u001b[1;36m0.5\u001b[0m\u001b[1;33m)\u001b[0m\u001b[1;33m\u001b[0m\u001b[1;33m\u001b[0m\u001b[0m\n\u001b[0m\u001b[0;32m      3\u001b[0m \u001b[0mprint\u001b[0m\u001b[1;33m(\u001b[0m\u001b[1;34m\"Primal density is: \"\u001b[0m \u001b[1;33m+\u001b[0m \u001b[0mstr\u001b[0m\u001b[1;33m(\u001b[0m\u001b[0mdensity\u001b[0m\u001b[1;33m(\u001b[0m\u001b[1;33m)\u001b[0m\u001b[1;33m)\u001b[0m \u001b[1;33m+\u001b[0m \u001b[1;34m\"\\n\"\u001b[0m\u001b[1;33m)\u001b[0m\u001b[1;33m\u001b[0m\u001b[1;33m\u001b[0m\u001b[0m\n\u001b[0;32m      4\u001b[0m \u001b[1;33m\u001b[0m\u001b[0m\n\u001b[0;32m      5\u001b[0m \u001b[1;32mfor\u001b[0m \u001b[0mi\u001b[0m \u001b[1;32min\u001b[0m \u001b[0mrange\u001b[0m\u001b[1;33m(\u001b[0m\u001b[0mN\u001b[0m\u001b[1;33m)\u001b[0m\u001b[1;33m:\u001b[0m \u001b[1;31m# can't see global variables for some reason\u001b[0m\u001b[1;33m\u001b[0m\u001b[1;33m\u001b[0m\u001b[0m\n",
      "\u001b[1;32m~\\AppData\\Local\\Temp/ipykernel_5460/3510414076.py\u001b[0m in \u001b[0;36mcreateGraph\u001b[1;34m(N, k_mean, initial_for)\u001b[0m\n\u001b[0;32m     31\u001b[0m                 \u001b[0mdifConnections\u001b[0m\u001b[1;33m[\u001b[0m\u001b[0mnode1\u001b[0m\u001b[1;33m]\u001b[0m\u001b[1;33m[\u001b[0m\u001b[0mnode2\u001b[0m\u001b[1;33m]\u001b[0m \u001b[1;33m=\u001b[0m \u001b[1;36m1\u001b[0m\u001b[1;33m\u001b[0m\u001b[1;33m\u001b[0m\u001b[0m\n\u001b[0;32m     32\u001b[0m                 \u001b[0mdifConnections\u001b[0m\u001b[1;33m[\u001b[0m\u001b[0mnode2\u001b[0m\u001b[1;33m]\u001b[0m\u001b[1;33m[\u001b[0m\u001b[0mnode1\u001b[0m\u001b[1;33m]\u001b[0m \u001b[1;33m=\u001b[0m \u001b[1;36m1\u001b[0m\u001b[1;33m\u001b[0m\u001b[1;33m\u001b[0m\u001b[0m\n\u001b[1;32m---> 33\u001b[1;33m                 \u001b[0moppositeOpinions\u001b[0m \u001b[1;33m+=\u001b[0m \u001b[1;36m1\u001b[0m\u001b[1;33m\u001b[0m\u001b[1;33m\u001b[0m\u001b[0m\n\u001b[0m\u001b[0;32m     34\u001b[0m             \u001b[0mlinks_counter\u001b[0m \u001b[1;33m+=\u001b[0m \u001b[1;33m-\u001b[0m\u001b[1;36m1\u001b[0m\u001b[1;33m\u001b[0m\u001b[1;33m\u001b[0m\u001b[0m\n\u001b[0;32m     35\u001b[0m \u001b[1;33m\u001b[0m\u001b[0m\n",
      "\u001b[1;31mUnboundLocalError\u001b[0m: local variable 'oppositeOpinions' referenced before assignment"
     ]
    }
   ],
   "source": [
    "# lets try it out\n",
    "createGraph(N, 4, 0.5)\n",
    "\n",
    "for i in range(N): # can't see global variables for some reason\n",
    "    stepForward(N, 0.5)\n"
   ]
  },
  {
   "cell_type": "code",
   "execution_count": 432,
   "id": "6c7133c7",
   "metadata": {},
   "outputs": [],
   "source": [
    "# --- previous concepts ---\n",
    "# def density(N):\n",
    "#     diffOpinions = 0\n",
    "#     tempCon = difConnections\n",
    "#     for i in range(N):\n",
    "#         for j in range(N):\n",
    "#             if tempCon[i][j] == 1:\n",
    "#                 diffOpinions += 1\n",
    "#                 tempCon[i][j] = 0\n",
    "#                 tempCon[j][i] = 0\n",
    "            \n",
    "#     return diffOpinions/floor(N * k_mean / 2)"
   ]
  }
 ],
 "metadata": {
  "kernelspec": {
   "display_name": "Python 3 (ipykernel)",
   "language": "python",
   "name": "python3"
  },
  "language_info": {
   "codemirror_mode": {
    "name": "ipython",
    "version": 3
   },
   "file_extension": ".py",
   "mimetype": "text/x-python",
   "name": "python",
   "nbconvert_exporter": "python",
   "pygments_lexer": "ipython3",
   "version": "3.9.7"
  }
 },
 "nbformat": 4,
 "nbformat_minor": 5
}
